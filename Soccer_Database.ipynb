{
 "cells": [
  {
   "cell_type": "markdown",
   "metadata": {},
   "source": [
    "\n",
    "# Project: Investigate the European Soccer Database (Kaggle)\n",
    "\n",
    "## Table of Contents\n",
    "<ul>\n",
    "<li><a href=\"#intro\">Introduction</a></li>\n",
    "<li><a href=\"#eda\">Exploratory Data Analysis</a></li>\n",
    "<li><a href=\"#conclusions\">Conclusions</a></li>\n",
    "</ul>"
   ]
  },
  {
   "cell_type": "markdown",
   "metadata": {},
   "source": [
    "<a id='intro'></a>\n",
    "## Introduction\n"
   ]
  },
  {
   "cell_type": "markdown",
   "metadata": {},
   "source": [
    "In this dataset more than 25.000 matches, players and teams attributes are listed. \n",
    "\n",
    "Over the course of this small analysis I want to answer the following questions:\n",
    "\n",
    "<ul>\n",
    "<li>Who are the hightest rated players? (Top 10)</li>\n",
    "<li>Which players couldn't live up to their potential?</li>\n",
    "<li>What's the average goals scored per game and league over the years?</li>\n",
    "</ul>\n"
   ]
  },
  {
   "cell_type": "code",
   "execution_count": 2,
   "metadata": {},
   "outputs": [],
   "source": [
    "import numpy as np\n",
    "import pandas as pd\n",
    "import sqlite3\n",
    "import matplotlib.pyplot as plt\n",
    "%matplotlib inline\n",
    "\n",
    "database = \"database.sqlite\""
   ]
  },
  {
   "cell_type": "markdown",
   "metadata": {},
   "source": [
    "### General Properties"
   ]
  },
  {
   "cell_type": "markdown",
   "metadata": {},
   "source": [
    "Connect to database and show tables"
   ]
  },
  {
   "cell_type": "code",
   "execution_count": 3,
   "metadata": {},
   "outputs": [
    {
     "data": {
      "text/html": [
       "<div>\n",
       "<style scoped>\n",
       "    .dataframe tbody tr th:only-of-type {\n",
       "        vertical-align: middle;\n",
       "    }\n",
       "\n",
       "    .dataframe tbody tr th {\n",
       "        vertical-align: top;\n",
       "    }\n",
       "\n",
       "    .dataframe thead th {\n",
       "        text-align: right;\n",
       "    }\n",
       "</style>\n",
       "<table border=\"1\" class=\"dataframe\">\n",
       "  <thead>\n",
       "    <tr style=\"text-align: right;\">\n",
       "      <th></th>\n",
       "      <th>type</th>\n",
       "      <th>name</th>\n",
       "      <th>tbl_name</th>\n",
       "      <th>rootpage</th>\n",
       "      <th>sql</th>\n",
       "    </tr>\n",
       "  </thead>\n",
       "  <tbody>\n",
       "    <tr>\n",
       "      <th>0</th>\n",
       "      <td>table</td>\n",
       "      <td>sqlite_sequence</td>\n",
       "      <td>sqlite_sequence</td>\n",
       "      <td>4</td>\n",
       "      <td>CREATE TABLE sqlite_sequence(name,seq)</td>\n",
       "    </tr>\n",
       "    <tr>\n",
       "      <th>1</th>\n",
       "      <td>table</td>\n",
       "      <td>Player_Attributes</td>\n",
       "      <td>Player_Attributes</td>\n",
       "      <td>11</td>\n",
       "      <td>CREATE TABLE \"Player_Attributes\" (\\n\\t`id`\\tIN...</td>\n",
       "    </tr>\n",
       "    <tr>\n",
       "      <th>2</th>\n",
       "      <td>table</td>\n",
       "      <td>Player</td>\n",
       "      <td>Player</td>\n",
       "      <td>14</td>\n",
       "      <td>CREATE TABLE `Player` (\\n\\t`id`\\tINTEGER PRIMA...</td>\n",
       "    </tr>\n",
       "    <tr>\n",
       "      <th>3</th>\n",
       "      <td>table</td>\n",
       "      <td>Match</td>\n",
       "      <td>Match</td>\n",
       "      <td>18</td>\n",
       "      <td>CREATE TABLE `Match` (\\n\\t`id`\\tINTEGER PRIMAR...</td>\n",
       "    </tr>\n",
       "    <tr>\n",
       "      <th>4</th>\n",
       "      <td>table</td>\n",
       "      <td>League</td>\n",
       "      <td>League</td>\n",
       "      <td>24</td>\n",
       "      <td>CREATE TABLE `League` (\\n\\t`id`\\tINTEGER PRIMA...</td>\n",
       "    </tr>\n",
       "    <tr>\n",
       "      <th>5</th>\n",
       "      <td>table</td>\n",
       "      <td>Country</td>\n",
       "      <td>Country</td>\n",
       "      <td>26</td>\n",
       "      <td>CREATE TABLE `Country` (\\n\\t`id`\\tINTEGER PRIM...</td>\n",
       "    </tr>\n",
       "    <tr>\n",
       "      <th>6</th>\n",
       "      <td>table</td>\n",
       "      <td>Team</td>\n",
       "      <td>Team</td>\n",
       "      <td>29</td>\n",
       "      <td>CREATE TABLE \"Team\" (\\n\\t`id`\\tINTEGER PRIMARY...</td>\n",
       "    </tr>\n",
       "    <tr>\n",
       "      <th>7</th>\n",
       "      <td>table</td>\n",
       "      <td>Team_Attributes</td>\n",
       "      <td>Team_Attributes</td>\n",
       "      <td>2</td>\n",
       "      <td>CREATE TABLE `Team_Attributes` (\\n\\t`id`\\tINTE...</td>\n",
       "    </tr>\n",
       "  </tbody>\n",
       "</table>\n",
       "</div>"
      ],
      "text/plain": [
       "    type               name           tbl_name  rootpage  \\\n",
       "0  table    sqlite_sequence    sqlite_sequence         4   \n",
       "1  table  Player_Attributes  Player_Attributes        11   \n",
       "2  table             Player             Player        14   \n",
       "3  table              Match              Match        18   \n",
       "4  table             League             League        24   \n",
       "5  table            Country            Country        26   \n",
       "6  table               Team               Team        29   \n",
       "7  table    Team_Attributes    Team_Attributes         2   \n",
       "\n",
       "                                                 sql  \n",
       "0             CREATE TABLE sqlite_sequence(name,seq)  \n",
       "1  CREATE TABLE \"Player_Attributes\" (\\n\\t`id`\\tIN...  \n",
       "2  CREATE TABLE `Player` (\\n\\t`id`\\tINTEGER PRIMA...  \n",
       "3  CREATE TABLE `Match` (\\n\\t`id`\\tINTEGER PRIMAR...  \n",
       "4  CREATE TABLE `League` (\\n\\t`id`\\tINTEGER PRIMA...  \n",
       "5  CREATE TABLE `Country` (\\n\\t`id`\\tINTEGER PRIM...  \n",
       "6  CREATE TABLE \"Team\" (\\n\\t`id`\\tINTEGER PRIMARY...  \n",
       "7  CREATE TABLE `Team_Attributes` (\\n\\t`id`\\tINTE...  "
      ]
     },
     "execution_count": 3,
     "metadata": {},
     "output_type": "execute_result"
    }
   ],
   "source": [
    "conn = sqlite3.connect(database)\n",
    "\n",
    "tables = pd.read_sql(\"\"\"SELECT *\n",
    "                        FROM sqlite_master\n",
    "                        WHERE type='table';\"\"\", conn)\n",
    "tables"
   ]
  },
  {
   "cell_type": "markdown",
   "metadata": {},
   "source": [
    "Test to see which countries are represented"
   ]
  },
  {
   "cell_type": "code",
   "execution_count": 4,
   "metadata": {},
   "outputs": [
    {
     "data": {
      "text/html": [
       "<div>\n",
       "<style scoped>\n",
       "    .dataframe tbody tr th:only-of-type {\n",
       "        vertical-align: middle;\n",
       "    }\n",
       "\n",
       "    .dataframe tbody tr th {\n",
       "        vertical-align: top;\n",
       "    }\n",
       "\n",
       "    .dataframe thead th {\n",
       "        text-align: right;\n",
       "    }\n",
       "</style>\n",
       "<table border=\"1\" class=\"dataframe\">\n",
       "  <thead>\n",
       "    <tr style=\"text-align: right;\">\n",
       "      <th></th>\n",
       "      <th>id</th>\n",
       "      <th>name</th>\n",
       "    </tr>\n",
       "  </thead>\n",
       "  <tbody>\n",
       "    <tr>\n",
       "      <th>0</th>\n",
       "      <td>1</td>\n",
       "      <td>Belgium</td>\n",
       "    </tr>\n",
       "    <tr>\n",
       "      <th>1</th>\n",
       "      <td>1729</td>\n",
       "      <td>England</td>\n",
       "    </tr>\n",
       "    <tr>\n",
       "      <th>2</th>\n",
       "      <td>4769</td>\n",
       "      <td>France</td>\n",
       "    </tr>\n",
       "    <tr>\n",
       "      <th>3</th>\n",
       "      <td>7809</td>\n",
       "      <td>Germany</td>\n",
       "    </tr>\n",
       "    <tr>\n",
       "      <th>4</th>\n",
       "      <td>10257</td>\n",
       "      <td>Italy</td>\n",
       "    </tr>\n",
       "    <tr>\n",
       "      <th>5</th>\n",
       "      <td>13274</td>\n",
       "      <td>Netherlands</td>\n",
       "    </tr>\n",
       "    <tr>\n",
       "      <th>6</th>\n",
       "      <td>15722</td>\n",
       "      <td>Poland</td>\n",
       "    </tr>\n",
       "    <tr>\n",
       "      <th>7</th>\n",
       "      <td>17642</td>\n",
       "      <td>Portugal</td>\n",
       "    </tr>\n",
       "    <tr>\n",
       "      <th>8</th>\n",
       "      <td>19694</td>\n",
       "      <td>Scotland</td>\n",
       "    </tr>\n",
       "    <tr>\n",
       "      <th>9</th>\n",
       "      <td>21518</td>\n",
       "      <td>Spain</td>\n",
       "    </tr>\n",
       "    <tr>\n",
       "      <th>10</th>\n",
       "      <td>24558</td>\n",
       "      <td>Switzerland</td>\n",
       "    </tr>\n",
       "  </tbody>\n",
       "</table>\n",
       "</div>"
      ],
      "text/plain": [
       "       id         name\n",
       "0       1      Belgium\n",
       "1    1729      England\n",
       "2    4769       France\n",
       "3    7809      Germany\n",
       "4   10257        Italy\n",
       "5   13274  Netherlands\n",
       "6   15722       Poland\n",
       "7   17642     Portugal\n",
       "8   19694     Scotland\n",
       "9   21518        Spain\n",
       "10  24558  Switzerland"
      ]
     },
     "execution_count": 4,
     "metadata": {},
     "output_type": "execute_result"
    }
   ],
   "source": [
    "countries = pd.read_sql(\"\"\"SELECT *\n",
    "                        FROM Country;\"\"\", conn)\n",
    "countries"
   ]
  },
  {
   "cell_type": "markdown",
   "metadata": {},
   "source": [
    "<a id='eda'></a>\n",
    "## Exploratory Data Analysis\n",
    "\n",
    "\n",
    "### 1) Who are the hightest rated players? (Top 10)?"
   ]
  },
  {
   "cell_type": "markdown",
   "metadata": {},
   "source": [
    "First, we need to get data with a SQL query.\n",
    "We need the player's name, average rating, number of ratings and potential (potential will maybe be used in another analysis later)"
   ]
  },
  {
   "cell_type": "code",
   "execution_count": 5,
   "metadata": {
    "scrolled": true
   },
   "outputs": [
    {
     "data": {
      "text/html": [
       "<div>\n",
       "<style scoped>\n",
       "    .dataframe tbody tr th:only-of-type {\n",
       "        vertical-align: middle;\n",
       "    }\n",
       "\n",
       "    .dataframe tbody tr th {\n",
       "        vertical-align: top;\n",
       "    }\n",
       "\n",
       "    .dataframe thead th {\n",
       "        text-align: right;\n",
       "    }\n",
       "</style>\n",
       "<table border=\"1\" class=\"dataframe\">\n",
       "  <thead>\n",
       "    <tr style=\"text-align: right;\">\n",
       "      <th></th>\n",
       "      <th>name</th>\n",
       "      <th>avg_rating</th>\n",
       "      <th>ratings</th>\n",
       "      <th>potential</th>\n",
       "    </tr>\n",
       "  </thead>\n",
       "  <tbody>\n",
       "    <tr>\n",
       "      <th>0</th>\n",
       "      <td>Lionel Messi</td>\n",
       "      <td>92.192308</td>\n",
       "      <td>26</td>\n",
       "      <td>95.230769</td>\n",
       "    </tr>\n",
       "    <tr>\n",
       "      <th>1</th>\n",
       "      <td>Cristiano Ronaldo</td>\n",
       "      <td>91.280000</td>\n",
       "      <td>25</td>\n",
       "      <td>93.480000</td>\n",
       "    </tr>\n",
       "    <tr>\n",
       "      <th>2</th>\n",
       "      <td>Franck Ribery</td>\n",
       "      <td>88.458333</td>\n",
       "      <td>24</td>\n",
       "      <td>89.916667</td>\n",
       "    </tr>\n",
       "    <tr>\n",
       "      <th>3</th>\n",
       "      <td>Andres Iniesta</td>\n",
       "      <td>88.320000</td>\n",
       "      <td>25</td>\n",
       "      <td>90.560000</td>\n",
       "    </tr>\n",
       "    <tr>\n",
       "      <th>4</th>\n",
       "      <td>Zlatan Ibrahimovic</td>\n",
       "      <td>88.285714</td>\n",
       "      <td>21</td>\n",
       "      <td>90.047619</td>\n",
       "    </tr>\n",
       "    <tr>\n",
       "      <th>5</th>\n",
       "      <td>Arjen Robben</td>\n",
       "      <td>87.840000</td>\n",
       "      <td>25</td>\n",
       "      <td>88.600000</td>\n",
       "    </tr>\n",
       "    <tr>\n",
       "      <th>6</th>\n",
       "      <td>Xavi Hernandez</td>\n",
       "      <td>87.636364</td>\n",
       "      <td>22</td>\n",
       "      <td>88.363636</td>\n",
       "    </tr>\n",
       "    <tr>\n",
       "      <th>7</th>\n",
       "      <td>Wayne Rooney</td>\n",
       "      <td>87.222222</td>\n",
       "      <td>36</td>\n",
       "      <td>87.944444</td>\n",
       "    </tr>\n",
       "    <tr>\n",
       "      <th>8</th>\n",
       "      <td>Iker Casillas</td>\n",
       "      <td>86.954545</td>\n",
       "      <td>22</td>\n",
       "      <td>88.227273</td>\n",
       "    </tr>\n",
       "    <tr>\n",
       "      <th>9</th>\n",
       "      <td>Philipp Lahm</td>\n",
       "      <td>86.733333</td>\n",
       "      <td>30</td>\n",
       "      <td>87.533333</td>\n",
       "    </tr>\n",
       "  </tbody>\n",
       "</table>\n",
       "</div>"
      ],
      "text/plain": [
       "                 name  avg_rating  ratings  potential\n",
       "0        Lionel Messi   92.192308       26  95.230769\n",
       "1   Cristiano Ronaldo   91.280000       25  93.480000\n",
       "2       Franck Ribery   88.458333       24  89.916667\n",
       "3      Andres Iniesta   88.320000       25  90.560000\n",
       "4  Zlatan Ibrahimovic   88.285714       21  90.047619\n",
       "5        Arjen Robben   87.840000       25  88.600000\n",
       "6      Xavi Hernandez   87.636364       22  88.363636\n",
       "7        Wayne Rooney   87.222222       36  87.944444\n",
       "8       Iker Casillas   86.954545       22  88.227273\n",
       "9        Philipp Lahm   86.733333       30  87.533333"
      ]
     },
     "execution_count": 5,
     "metadata": {},
     "output_type": "execute_result"
    }
   ],
   "source": [
    "players_by_rating = pd.read_sql(\"\"\"SELECT player_name AS name,\n",
    "                                          avg(PA.overall_rating) AS avg_rating,\n",
    "                                          count(distinct date) AS ratings,\n",
    "                                          avg(PA.potential) AS potential\n",
    "                                    FROM Player\n",
    "                                    LEFT JOIN Player_Attributes AS PA ON PA.player_api_id = Player.player_api_id\n",
    "                    \n",
    "                                    \n",
    "                                    GROUP BY name \n",
    "                                    HAVING count(distinct date) > 20\n",
    "                                    ORDER BY avg_rating DESC\n",
    "                                    ;\"\"\", conn)\n",
    "players_by_rating.head(10)"
   ]
  },
  {
   "cell_type": "markdown",
   "metadata": {},
   "source": [
    "Get top 10 names"
   ]
  },
  {
   "cell_type": "code",
   "execution_count": 6,
   "metadata": {
    "scrolled": true
   },
   "outputs": [
    {
     "data": {
      "text/plain": [
       "0          Lionel Messi\n",
       "1     Cristiano Ronaldo\n",
       "2         Franck Ribery\n",
       "3        Andres Iniesta\n",
       "4    Zlatan Ibrahimovic\n",
       "5          Arjen Robben\n",
       "6        Xavi Hernandez\n",
       "7          Wayne Rooney\n",
       "8         Iker Casillas\n",
       "9          Philipp Lahm\n",
       "Name: name, dtype: object"
      ]
     },
     "execution_count": 6,
     "metadata": {},
     "output_type": "execute_result"
    }
   ],
   "source": [
    "names_top10 = players_by_rating[\"name\"][:10]\n",
    "names_top10"
   ]
  },
  {
   "cell_type": "markdown",
   "metadata": {},
   "source": [
    "Get top 10 average ratings"
   ]
  },
  {
   "cell_type": "code",
   "execution_count": 8,
   "metadata": {
    "scrolled": true
   },
   "outputs": [
    {
     "data": {
      "text/plain": [
       "0    92.192308\n",
       "1    91.280000\n",
       "2    88.458333\n",
       "3    88.320000\n",
       "4    88.285714\n",
       "5    87.840000\n",
       "6    87.636364\n",
       "7    87.222222\n",
       "8    86.954545\n",
       "9    86.733333\n",
       "Name: avg_rating, dtype: float64"
      ]
     },
     "execution_count": 8,
     "metadata": {},
     "output_type": "execute_result"
    }
   ],
   "source": [
    "ratings_top10 = players_by_rating[\"avg_rating\"][:10]\n",
    "ratings_top10"
   ]
  },
  {
   "cell_type": "markdown",
   "metadata": {},
   "source": [
    "Bar chart seems to be most fitting for the top 10"
   ]
  },
  {
   "cell_type": "code",
   "execution_count": 9,
   "metadata": {
    "scrolled": false
   },
   "outputs": [
    {
     "data": {
      "image/png": "[encoded data removed]",
      "text/plain": [
       "<Figure size 1440x576 with 1 Axes>"
      ]
     },
     "metadata": {
      "needs_background": "light"
     },
     "output_type": "display_data"
    }
   ],
   "source": [
    "plt.subplots(figsize=(20,8))\n",
    "plt.bar(names_top10, ratings_top10)\n",
    "\n",
    "plt.title(\"Top 10 players by average rating\")\n",
    "plt.ylabel(\"Average rating\")\n",
    "plt.xlabel(\"Player\");"
   ]
  },
  {
   "cell_type": "markdown",
   "metadata": {},
   "source": [
    "### 2) Which players couldn't live up to their potential? (Top 10)"
   ]
  },
  {
   "cell_type": "markdown",
   "metadata": {},
   "source": [
    "We can use players_by_ratings from the previous query for that question"
   ]
  },
  {
   "cell_type": "code",
   "execution_count": 10,
   "metadata": {},
   "outputs": [
    {
     "data": {
      "text/html": [
       "<div>\n",
       "<style scoped>\n",
       "    .dataframe tbody tr th:only-of-type {\n",
       "        vertical-align: middle;\n",
       "    }\n",
       "\n",
       "    .dataframe tbody tr th {\n",
       "        vertical-align: top;\n",
       "    }\n",
       "\n",
       "    .dataframe thead th {\n",
       "        text-align: right;\n",
       "    }\n",
       "</style>\n",
       "<table border=\"1\" class=\"dataframe\">\n",
       "  <thead>\n",
       "    <tr style=\"text-align: right;\">\n",
       "      <th></th>\n",
       "      <th>name</th>\n",
       "      <th>avg_rating</th>\n",
       "      <th>ratings</th>\n",
       "      <th>potential</th>\n",
       "    </tr>\n",
       "  </thead>\n",
       "  <tbody>\n",
       "    <tr>\n",
       "      <th>0</th>\n",
       "      <td>Lionel Messi</td>\n",
       "      <td>92.192308</td>\n",
       "      <td>26</td>\n",
       "      <td>95.230769</td>\n",
       "    </tr>\n",
       "    <tr>\n",
       "      <th>1</th>\n",
       "      <td>Cristiano Ronaldo</td>\n",
       "      <td>91.280000</td>\n",
       "      <td>25</td>\n",
       "      <td>93.480000</td>\n",
       "    </tr>\n",
       "    <tr>\n",
       "      <th>2</th>\n",
       "      <td>Franck Ribery</td>\n",
       "      <td>88.458333</td>\n",
       "      <td>24</td>\n",
       "      <td>89.916667</td>\n",
       "    </tr>\n",
       "    <tr>\n",
       "      <th>3</th>\n",
       "      <td>Andres Iniesta</td>\n",
       "      <td>88.320000</td>\n",
       "      <td>25</td>\n",
       "      <td>90.560000</td>\n",
       "    </tr>\n",
       "    <tr>\n",
       "      <th>4</th>\n",
       "      <td>Zlatan Ibrahimovic</td>\n",
       "      <td>88.285714</td>\n",
       "      <td>21</td>\n",
       "      <td>90.047619</td>\n",
       "    </tr>\n",
       "    <tr>\n",
       "      <th>5</th>\n",
       "      <td>Arjen Robben</td>\n",
       "      <td>87.840000</td>\n",
       "      <td>25</td>\n",
       "      <td>88.600000</td>\n",
       "    </tr>\n",
       "    <tr>\n",
       "      <th>6</th>\n",
       "      <td>Xavi Hernandez</td>\n",
       "      <td>87.636364</td>\n",
       "      <td>22</td>\n",
       "      <td>88.363636</td>\n",
       "    </tr>\n",
       "    <tr>\n",
       "      <th>7</th>\n",
       "      <td>Wayne Rooney</td>\n",
       "      <td>87.222222</td>\n",
       "      <td>36</td>\n",
       "      <td>87.944444</td>\n",
       "    </tr>\n",
       "    <tr>\n",
       "      <th>8</th>\n",
       "      <td>Iker Casillas</td>\n",
       "      <td>86.954545</td>\n",
       "      <td>22</td>\n",
       "      <td>88.227273</td>\n",
       "    </tr>\n",
       "    <tr>\n",
       "      <th>9</th>\n",
       "      <td>Philipp Lahm</td>\n",
       "      <td>86.733333</td>\n",
       "      <td>30</td>\n",
       "      <td>87.533333</td>\n",
       "    </tr>\n",
       "  </tbody>\n",
       "</table>\n",
       "</div>"
      ],
      "text/plain": [
       "                 name  avg_rating  ratings  potential\n",
       "0        Lionel Messi   92.192308       26  95.230769\n",
       "1   Cristiano Ronaldo   91.280000       25  93.480000\n",
       "2       Franck Ribery   88.458333       24  89.916667\n",
       "3      Andres Iniesta   88.320000       25  90.560000\n",
       "4  Zlatan Ibrahimovic   88.285714       21  90.047619\n",
       "5        Arjen Robben   87.840000       25  88.600000\n",
       "6      Xavi Hernandez   87.636364       22  88.363636\n",
       "7        Wayne Rooney   87.222222       36  87.944444\n",
       "8       Iker Casillas   86.954545       22  88.227273\n",
       "9        Philipp Lahm   86.733333       30  87.533333"
      ]
     },
     "execution_count": 10,
     "metadata": {},
     "output_type": "execute_result"
    }
   ],
   "source": [
    "players_by_rating.head(10)"
   ]
  },
  {
   "cell_type": "markdown",
   "metadata": {},
   "source": [
    "We need a new column that shows the difference between potential and average rating"
   ]
  },
  {
   "cell_type": "code",
   "execution_count": 12,
   "metadata": {},
   "outputs": [
    {
     "data": {
      "text/html": [
       "<div>\n",
       "<style scoped>\n",
       "    .dataframe tbody tr th:only-of-type {\n",
       "        vertical-align: middle;\n",
       "    }\n",
       "\n",
       "    .dataframe tbody tr th {\n",
       "        vertical-align: top;\n",
       "    }\n",
       "\n",
       "    .dataframe thead th {\n",
       "        text-align: right;\n",
       "    }\n",
       "</style>\n",
       "<table border=\"1\" class=\"dataframe\">\n",
       "  <thead>\n",
       "    <tr style=\"text-align: right;\">\n",
       "      <th></th>\n",
       "      <th>name</th>\n",
       "      <th>avg_rating</th>\n",
       "      <th>ratings</th>\n",
       "      <th>potential</th>\n",
       "      <th>pot_difference</th>\n",
       "    </tr>\n",
       "  </thead>\n",
       "  <tbody>\n",
       "    <tr>\n",
       "      <th>0</th>\n",
       "      <td>Lionel Messi</td>\n",
       "      <td>92.192308</td>\n",
       "      <td>26</td>\n",
       "      <td>95.230769</td>\n",
       "      <td>3.038462</td>\n",
       "    </tr>\n",
       "    <tr>\n",
       "      <th>1</th>\n",
       "      <td>Cristiano Ronaldo</td>\n",
       "      <td>91.280000</td>\n",
       "      <td>25</td>\n",
       "      <td>93.480000</td>\n",
       "      <td>2.200000</td>\n",
       "    </tr>\n",
       "    <tr>\n",
       "      <th>2</th>\n",
       "      <td>Franck Ribery</td>\n",
       "      <td>88.458333</td>\n",
       "      <td>24</td>\n",
       "      <td>89.916667</td>\n",
       "      <td>1.458333</td>\n",
       "    </tr>\n",
       "    <tr>\n",
       "      <th>3</th>\n",
       "      <td>Andres Iniesta</td>\n",
       "      <td>88.320000</td>\n",
       "      <td>25</td>\n",
       "      <td>90.560000</td>\n",
       "      <td>2.240000</td>\n",
       "    </tr>\n",
       "    <tr>\n",
       "      <th>4</th>\n",
       "      <td>Zlatan Ibrahimovic</td>\n",
       "      <td>88.285714</td>\n",
       "      <td>21</td>\n",
       "      <td>90.047619</td>\n",
       "      <td>1.761905</td>\n",
       "    </tr>\n",
       "  </tbody>\n",
       "</table>\n",
       "</div>"
      ],
      "text/plain": [
       "                 name  avg_rating  ratings  potential  pot_difference\n",
       "0        Lionel Messi   92.192308       26  95.230769        3.038462\n",
       "1   Cristiano Ronaldo   91.280000       25  93.480000        2.200000\n",
       "2       Franck Ribery   88.458333       24  89.916667        1.458333\n",
       "3      Andres Iniesta   88.320000       25  90.560000        2.240000\n",
       "4  Zlatan Ibrahimovic   88.285714       21  90.047619        1.761905"
      ]
     },
     "execution_count": 12,
     "metadata": {},
     "output_type": "execute_result"
    }
   ],
   "source": [
    "players_by_rating[\"pot_difference\"] = players_by_rating[\"potential\"] - players_by_rating[\"avg_rating\"]\n",
    "players_by_rating.head()"
   ]
  },
  {
   "cell_type": "markdown",
   "metadata": {},
   "source": [
    "We need to sort by pot_difference and store it in a new variable"
   ]
  },
  {
   "cell_type": "code",
   "execution_count": 15,
   "metadata": {},
   "outputs": [
    {
     "data": {
      "text/html": [
       "<div>\n",
       "<style scoped>\n",
       "    .dataframe tbody tr th:only-of-type {\n",
       "        vertical-align: middle;\n",
       "    }\n",
       "\n",
       "    .dataframe tbody tr th {\n",
       "        vertical-align: top;\n",
       "    }\n",
       "\n",
       "    .dataframe thead th {\n",
       "        text-align: right;\n",
       "    }\n",
       "</style>\n",
       "<table border=\"1\" class=\"dataframe\">\n",
       "  <thead>\n",
       "    <tr style=\"text-align: right;\">\n",
       "      <th></th>\n",
       "      <th>name</th>\n",
       "      <th>avg_rating</th>\n",
       "      <th>ratings</th>\n",
       "      <th>potential</th>\n",
       "      <th>pot_difference</th>\n",
       "    </tr>\n",
       "  </thead>\n",
       "  <tbody>\n",
       "    <tr>\n",
       "      <th>3621</th>\n",
       "      <td>Dele Alli</td>\n",
       "      <td>61.886364</td>\n",
       "      <td>44</td>\n",
       "      <td>81.250000</td>\n",
       "      <td>19.363636</td>\n",
       "    </tr>\n",
       "    <tr>\n",
       "      <th>2984</th>\n",
       "      <td>Levin Mete Oztunali</td>\n",
       "      <td>66.307692</td>\n",
       "      <td>26</td>\n",
       "      <td>84.576923</td>\n",
       "      <td>18.269231</td>\n",
       "    </tr>\n",
       "    <tr>\n",
       "      <th>3726</th>\n",
       "      <td>Adam Campbell</td>\n",
       "      <td>59.636364</td>\n",
       "      <td>22</td>\n",
       "      <td>77.636364</td>\n",
       "      <td>18.000000</td>\n",
       "    </tr>\n",
       "    <tr>\n",
       "      <th>3735</th>\n",
       "      <td>Dawid Kownacki</td>\n",
       "      <td>59.375000</td>\n",
       "      <td>24</td>\n",
       "      <td>76.625000</td>\n",
       "      <td>17.250000</td>\n",
       "    </tr>\n",
       "    <tr>\n",
       "      <th>3480</th>\n",
       "      <td>Hector Bellerin</td>\n",
       "      <td>63.464286</td>\n",
       "      <td>28</td>\n",
       "      <td>80.571429</td>\n",
       "      <td>17.107143</td>\n",
       "    </tr>\n",
       "  </tbody>\n",
       "</table>\n",
       "</div>"
      ],
      "text/plain": [
       "                     name  avg_rating  ratings  potential  pot_difference\n",
       "3621            Dele Alli   61.886364       44  81.250000       19.363636\n",
       "2984  Levin Mete Oztunali   66.307692       26  84.576923       18.269231\n",
       "3726        Adam Campbell   59.636364       22  77.636364       18.000000\n",
       "3735       Dawid Kownacki   59.375000       24  76.625000       17.250000\n",
       "3480      Hector Bellerin   63.464286       28  80.571429       17.107143"
      ]
     },
     "execution_count": 15,
     "metadata": {},
     "output_type": "execute_result"
    }
   ],
   "source": [
    "players_by_pot_dif = players_by_rating.sort_values(by=\"pot_difference\", ascending=False)\n",
    "players_by_pot_dif.head()"
   ]
  },
  {
   "cell_type": "markdown",
   "metadata": {},
   "source": [
    "Get top 10 names and pot_difference for plotting"
   ]
  },
  {
   "cell_type": "code",
   "execution_count": 16,
   "metadata": {},
   "outputs": [],
   "source": [
    "names = players_by_pot_dif[\"name\"][:10]\n",
    "dif = players_by_pot_dif[\"pot_difference\"][:10]"
   ]
  },
  {
   "cell_type": "markdown",
   "metadata": {},
   "source": [
    "Everything ready for plotting"
   ]
  },
  {
   "cell_type": "code",
   "execution_count": 17,
   "metadata": {},
   "outputs": [
    {
     "data": {
      "image/png": "[encoded data removed]",
      "text/plain": [
       "<Figure size 1440x576 with 1 Axes>"
      ]
     },
     "metadata": {
      "needs_background": "light"
     },
     "output_type": "display_data"
    }
   ],
   "source": [
    "plt.subplots(figsize=(20,8))\n",
    "plt.bar(names, dif)\n",
    "\n",
    "plt.title(\"Top 10 players with highest difference between potential and average rating\")\n",
    "plt.xlabel(\"Player\")\n",
    "plt.ylabel(\"Difference between potential and average rating\");"
   ]
  },
  {
   "cell_type": "markdown",
   "metadata": {},
   "source": [
    "### 3) What's the average goals scored per game and league over the years?"
   ]
  },
  {
   "cell_type": "markdown",
   "metadata": {},
   "source": [
    "For this question we need some more pieces of information. We need to know the averages per country and season. We can compute them them with Python (new column) or directly with SQL (like below).  \n",
    "We are only interested in the top leagues. "
   ]
  },
  {
   "cell_type": "code",
   "execution_count": 12,
   "metadata": {
    "scrolled": true
   },
   "outputs": [
    {
     "data": {
      "text/html": [
       "<div>\n",
       "<style scoped>\n",
       "    .dataframe tbody tr th:only-of-type {\n",
       "        vertical-align: middle;\n",
       "    }\n",
       "\n",
       "    .dataframe tbody tr th {\n",
       "        vertical-align: top;\n",
       "    }\n",
       "\n",
       "    .dataframe thead th {\n",
       "        text-align: right;\n",
       "    }\n",
       "</style>\n",
       "<table border=\"1\" class=\"dataframe\">\n",
       "  <thead>\n",
       "    <tr style=\"text-align: right;\">\n",
       "      <th></th>\n",
       "      <th>country_name</th>\n",
       "      <th>league_name</th>\n",
       "      <th>season</th>\n",
       "      <th>stages</th>\n",
       "      <th>number_of_teams</th>\n",
       "      <th>avg_home_team_goal</th>\n",
       "      <th>avg_away_team_goal</th>\n",
       "      <th>avg_goal_difference</th>\n",
       "      <th>avg_goals</th>\n",
       "      <th>total_goals</th>\n",
       "    </tr>\n",
       "  </thead>\n",
       "  <tbody>\n",
       "    <tr>\n",
       "      <th>0</th>\n",
       "      <td>England</td>\n",
       "      <td>England Premier League</td>\n",
       "      <td>2015/2016</td>\n",
       "      <td>38</td>\n",
       "      <td>20</td>\n",
       "      <td>1.492105</td>\n",
       "      <td>1.207895</td>\n",
       "      <td>0.284211</td>\n",
       "      <td>2.700000</td>\n",
       "      <td>1026</td>\n",
       "    </tr>\n",
       "    <tr>\n",
       "      <th>1</th>\n",
       "      <td>England</td>\n",
       "      <td>England Premier League</td>\n",
       "      <td>2014/2015</td>\n",
       "      <td>38</td>\n",
       "      <td>20</td>\n",
       "      <td>1.473684</td>\n",
       "      <td>1.092105</td>\n",
       "      <td>0.381579</td>\n",
       "      <td>2.565789</td>\n",
       "      <td>975</td>\n",
       "    </tr>\n",
       "    <tr>\n",
       "      <th>2</th>\n",
       "      <td>England</td>\n",
       "      <td>England Premier League</td>\n",
       "      <td>2013/2014</td>\n",
       "      <td>38</td>\n",
       "      <td>20</td>\n",
       "      <td>1.573684</td>\n",
       "      <td>1.194737</td>\n",
       "      <td>0.378947</td>\n",
       "      <td>2.768421</td>\n",
       "      <td>1052</td>\n",
       "    </tr>\n",
       "    <tr>\n",
       "      <th>3</th>\n",
       "      <td>England</td>\n",
       "      <td>England Premier League</td>\n",
       "      <td>2012/2013</td>\n",
       "      <td>38</td>\n",
       "      <td>20</td>\n",
       "      <td>1.557895</td>\n",
       "      <td>1.239474</td>\n",
       "      <td>0.318421</td>\n",
       "      <td>2.797368</td>\n",
       "      <td>1063</td>\n",
       "    </tr>\n",
       "    <tr>\n",
       "      <th>4</th>\n",
       "      <td>England</td>\n",
       "      <td>England Premier League</td>\n",
       "      <td>2011/2012</td>\n",
       "      <td>38</td>\n",
       "      <td>20</td>\n",
       "      <td>1.589474</td>\n",
       "      <td>1.215789</td>\n",
       "      <td>0.373684</td>\n",
       "      <td>2.805263</td>\n",
       "      <td>1066</td>\n",
       "    </tr>\n",
       "  </tbody>\n",
       "</table>\n",
       "</div>"
      ],
      "text/plain": [
       "  country_name             league_name     season  stages  number_of_teams  \\\n",
       "0      England  England Premier League  2015/2016      38               20   \n",
       "1      England  England Premier League  2014/2015      38               20   \n",
       "2      England  England Premier League  2013/2014      38               20   \n",
       "3      England  England Premier League  2012/2013      38               20   \n",
       "4      England  England Premier League  2011/2012      38               20   \n",
       "\n",
       "   avg_home_team_goal  avg_away_team_goal  avg_goal_difference  avg_goals  \\\n",
       "0            1.492105            1.207895             0.284211   2.700000   \n",
       "1            1.473684            1.092105             0.381579   2.565789   \n",
       "2            1.573684            1.194737             0.378947   2.768421   \n",
       "3            1.557895            1.239474             0.318421   2.797368   \n",
       "4            1.589474            1.215789             0.373684   2.805263   \n",
       "\n",
       "   total_goals  \n",
       "0         1026  \n",
       "1          975  \n",
       "2         1052  \n",
       "3         1063  \n",
       "4         1066  "
      ]
     },
     "execution_count": 12,
     "metadata": {},
     "output_type": "execute_result"
    }
   ],
   "source": [
    "leagues_by_season = pd.read_sql(\"\"\"SELECT Country.name AS country_name,\n",
    "                                            League.name AS league_name,\n",
    "                                            season,\n",
    "                                            count(distinct stage) AS stages,\n",
    "                                            count(distinct home_team_api_id) AS number_of_teams,\n",
    "                                            avg(home_team_goal) AS avg_home_team_goal,\n",
    "                                            avg(away_team_goal) AS avg_away_team_goal,\n",
    "                                            avg(home_team_goal - away_team_goal) AS avg_goal_difference,\n",
    "                                            avg(home_team_goal + away_team_goal) AS avg_goals,\n",
    "                                            sum(home_team_goal + away_team_goal) AS total_goals\n",
    "                                        FROM Match\n",
    "                                        JOIN Country ON Country.id = Match.country_id\n",
    "                                        JOIN League ON League.id = Match.league_id\n",
    "                                        LEFT JOIN Team AS HT ON HT.team_api_id = Match.home_team_api_id\n",
    "                                        LEFT JOIN Team AS AT ON AT.team_api_id = Match.away_team_api_id\n",
    "                                        WHERE country_name in ('Spain', 'Germany', 'France', 'Italy', 'England')\n",
    "                                        \n",
    "                                        GROUP BY Country.name, League.name, season\n",
    "                                        ORDER BY Country.name, League.name, season DESC\n",
    "                                        ;\"\"\", conn)\n",
    "leagues_by_season.head()"
   ]
  },
  {
   "cell_type": "markdown",
   "metadata": {},
   "source": [
    "In the end, we want to have lines for every league. So we need an index (our seasons)"
   ]
  },
  {
   "cell_type": "code",
   "execution_count": 13,
   "metadata": {},
   "outputs": [
    {
     "data": {
      "text/plain": [
       "7    2008/2009\n",
       "6    2009/2010\n",
       "5    2010/2011\n",
       "4    2011/2012\n",
       "3    2012/2013\n",
       "2    2013/2014\n",
       "1    2014/2015\n",
       "0    2015/2016\n",
       "Name: season, dtype: object"
      ]
     },
     "execution_count": 13,
     "metadata": {},
     "output_type": "execute_result"
    }
   ],
   "source": [
    "season = leagues_by_season.query(\"league_name == 'England Premier League'\")[\"season\"].sort_index(ascending=False)\n",
    "season"
   ]
  },
  {
   "cell_type": "markdown",
   "metadata": {},
   "source": [
    "We need to know the exact names of your leagues"
   ]
  },
  {
   "cell_type": "code",
   "execution_count": 14,
   "metadata": {},
   "outputs": [
    {
     "data": {
      "text/plain": [
       "array(['England Premier League', 'France Ligue 1',\n",
       "       'Germany 1. Bundesliga', 'Italy Serie A', 'Spain LIGA BBVA'],\n",
       "      dtype=object)"
      ]
     },
     "execution_count": 14,
     "metadata": {},
     "output_type": "execute_result"
    }
   ],
   "source": [
    "leagues_by_season[\"league_name\"].unique()"
   ]
  },
  {
   "cell_type": "markdown",
   "metadata": {},
   "source": [
    "Get our data ready for plotting"
   ]
  },
  {
   "cell_type": "code",
   "execution_count": 15,
   "metadata": {},
   "outputs": [],
   "source": [
    "england_av_goals = leagues_by_season.query(\"league_name == 'England Premier League'\")[\"avg_goals\"].sort_index(ascending=False)\n",
    "germany_av_goals = leagues_by_season.query(\"league_name == 'Germany 1. Bundesliga'\")[\"avg_goals\"].sort_index(ascending=False)\n",
    "italy_av_goals = leagues_by_season.query(\"league_name == 'Italy Serie A'\")[\"avg_goals\"].sort_index(ascending=False)\n",
    "spain_av_goals = leagues_by_season.query(\"league_name == 'Spain LIGA BBVA'\")[\"avg_goals\"].sort_index(ascending=False)\n",
    "france_av_goals = leagues_by_season.query(\"league_name == 'France Ligue 1'\")[\"avg_goals\"].sort_index(ascending=False)"
   ]
  },
  {
   "cell_type": "markdown",
   "metadata": {},
   "source": [
    "We can see that Germany has the highest goals per game in every season displayed. France is the lowest scoing league on average. Spain had a dip from 2012/2013 to 2013/2014 when Germany's average goals rose. Maybe one factor was the arrival of Pep Guardiola at Munich in that period. "
   ]
  },
  {
   "cell_type": "code",
   "execution_count": 16,
   "metadata": {},
   "outputs": [
    {
     "data": {
      "image/png": "[encoded data removed]",
      "text/plain": [
       "<Figure size 432x288 with 1 Axes>"
      ]
     },
     "metadata": {
      "needs_background": "light"
     },
     "output_type": "display_data"
    }
   ],
   "source": [
    "diag = plt.figure()\n",
    "\n",
    "ax = diag.add_axes([0,0,2,2])\n",
    "\n",
    "ax.plot(season, germany_av_goals, label = \"Germany\")\n",
    "ax.plot(season, england_av_goals, label = \"England\")\n",
    "ax.plot(season, italy_av_goals, label = \"Italy\")\n",
    "ax.plot(season, spain_av_goals, label = \"Spain\")\n",
    "ax.plot(season, france_av_goals, label = \"France\")\n",
    "\n",
    "\n",
    "plt.title(\"Average goals per league over time\")\n",
    "plt.xlabel(\"Season\")\n",
    "plt.ylabel(\"Average goals\")\n",
    "plt.legend();"
   ]
  },
  {
   "cell_type": "markdown",
   "metadata": {},
   "source": [
    "<a id='conclusions'></a>\n",
    "## Conclusions\n",
    "\n",
    "BLA\n",
    "\n",
    "### Limitations\n",
    "\n",
    "BLA\n"
   ]
  },
  {
   "cell_type": "code",
   "execution_count": null,
   "metadata": {
    "collapsed": true
   },
   "outputs": [],
   "source": []
  }
 ],
 "metadata": {
  "kernelspec": {
   "display_name": "Python 3",
   "language": "python",
   "name": "python3"
  },
  "language_info": {
   "codemirror_mode": {
    "name": "ipython",
    "version": 3
   },
   "file_extension": ".py",
   "mimetype": "text/x-python",
   "name": "python",
   "nbconvert_exporter": "python",
   "pygments_lexer": "ipython3",
   "version": "3.7.6"
  }
 },
 "nbformat": 4,
 "nbformat_minor": 2
}
